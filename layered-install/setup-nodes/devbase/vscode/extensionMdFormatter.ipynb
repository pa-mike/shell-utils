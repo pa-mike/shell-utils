{
 "cells": [
  {
   "cell_type": "code",
   "execution_count": 2,
   "metadata": {},
   "outputs": [
    {
     "name": "stdout",
     "output_type": "stream",
     "text": [
      "['adpyke.vscode-sql-formatter', 'bastienboutonnet.vscode-dbt', 'bencoleman.armview', 'DavidAnson.vscode-markdownlint', 'donjayamanne.python-environment-manager', 'eamodio.gitlens', 'foxundermoon.shell-format', 'GitHub.vscode-pull-request-github', 'GrapeCity.gc-excelviewer', 'hediet.vscode-drawio', 'innoverio.vscode-dbt-power-user', 'iocave.customize-ui', 'iocave.monkey-patch', 'ionutvmi.reg', 'IronGeek.vscode-env', 'janisdd.vscode-edit-csv', 'KevinRose.vsc-python-indent', 'kogai.regex-railroad-diagrams', 'mgesbert.python-path', 'ms-azure-devops.azure-pipelines', 'ms-azuretools.vscode-azureappservice', 'ms-azuretools.vscode-azurefunctions', 'ms-azuretools.vscode-azureresourcegroups', 'ms-azuretools.vscode-azurestorage', 'ms-azuretools.vscode-azurevirtualmachines', 'ms-azuretools.vscode-bicep', 'ms-azuretools.vscode-cosmosdb', 'ms-azuretools.vscode-docker', 'ms-dotnettools.vscode-dotnet-runtime', 'ms-python.python', 'ms-python.vscode-pylance', 'ms-toolsai.jupyter', 'ms-toolsai.jupyter-keymap', 'ms-toolsai.jupyter-renderers', 'ms-toolsai.vscode-ai', 'ms-toolsai.vscode-ai-remote', 'ms-vscode-remote.remote-containers', 'ms-vscode-remote.remote-ssh', 'ms-vscode-remote.remote-ssh-edit', 'ms-vscode-remote.remote-wsl', 'ms-vscode.azure-account', 'ms-vscode.azurecli', 'ms-vscode.powershell', 'ms-vscode.vscode-node-azure-pack', 'ms-vsliveshare.vsliveshare', 'ms-vsliveshare.vsliveshare-audio', 'msazurermtools.azurerm-vscode-tools', 'mshdinsight.azure-hdinsight', 'mtxr.sqltools', 'mtxr.sqltools-driver-mysql', 'mtxr.sqltools-driver-pg', 'mutantdino.resourcemonitor', 'njpwerner.autodocstring', 'samuelcolvin.jinjahtml', 'sourcegraph.sourcegraph', 'sourcery.sourcery', 'tht13.html-preview-vscode', 'tomoki1207.pdf', 'ultram4rine.sqltools-clickhouse-driver', 'undefined_publisher.pa-datateam-vs-extensions', 'usernamehw.errorlens', 'VisualStudioExptTeam.intellicode-api-usage-examples', 'VisualStudioExptTeam.vscodeintellicode', 'yzhang.markdown-all-in-one']\n"
     ]
    }
   ],
   "source": [
    "\n"
   ]
  },
  {
   "cell_type": "code",
   "execution_count": 11,
   "metadata": {},
   "outputs": [
    {
     "name": "stderr",
     "output_type": "stream",
     "text": [
      "100%|██████████| 38/38 [00:09<00:00,  4.02it/s]"
     ]
    },
    {
     "name": "stdout",
     "output_type": "stream",
     "text": [
      "- [.NET Install Tool for Extension Authors](https://marketplace.visualstudio.com/items?itemName=ms-dotnettools.vscode-dotnet-runtime): Allows acquisition of the .NET runtime specifically for VS Code extension authors. | Publisher: Microsoft | Id: `ms-dotnettools.vscode-dotnet-runtime`\n",
      "- [ARM Template Viewer](https://marketplace.visualstudio.com/items?itemName=bencoleman.armview): Graphically display ARM templates in an interactive map view | Publisher: Ben Coleman | Id: `bencoleman.armview`\n",
      "- [Azure Account](https://marketplace.visualstudio.com/items?itemName=ms-vscode.azure-account): A common Sign In and Subscription management extension for VS Code. | Publisher: Microsoft | Id: `ms-vscode.azure-account`\n",
      "- [Azure App Service](https://marketplace.visualstudio.com/items?itemName=ms-azuretools.vscode-azureappservice): An Azure App Service management extension for Visual Studio Code. | Publisher: Microsoft | Id: `ms-azuretools.vscode-azureappservice`\n",
      "- [Azure CLI Tools](https://marketplace.visualstudio.com/items?itemName=ms-vscode.azurecli): Tools for developing and running commands of the Azure CLI. | Publisher: Microsoft | Id: `ms-vscode.azurecli`\n",
      "- [Azure Databases](https://marketplace.visualstudio.com/items?itemName=ms-azuretools.vscode-cosmosdb): Create, browse, and update globally distributed, multi-model databases in Azure. | Publisher: Microsoft | Id: `ms-azuretools.vscode-cosmosdb`\n",
      "- [Azure Functions](https://marketplace.visualstudio.com/items?itemName=ms-azuretools.vscode-azurefunctions): An Azure Functions extension for Visual Studio Code. | Publisher: Microsoft | Id: `ms-azuretools.vscode-azurefunctions`\n",
      "- [Azure Machine Learning - Remote](https://marketplace.visualstudio.com/items?itemName=ms-toolsai.vscode-ai-remote): This extension is used by the Azure Machine Learning Extension | Publisher: Microsoft | Id: `ms-toolsai.vscode-ai-remote`\n",
      "- [Azure Machine Learning](https://marketplace.visualstudio.com/items?itemName=ms-toolsai.vscode-ai): Visual Studio Code extension for Azure Machine Learning | Publisher: Microsoft | Id: `ms-toolsai.vscode-ai`\n",
      "- [Azure Pipelines](https://marketplace.visualstudio.com/items?itemName=ms-azure-devops.azure-pipelines): Syntax highlighting, IntelliSense, and more for Azure Pipelines YAML | Publisher: Microsoft | Id: `ms-azure-devops.azure-pipelines`\n",
      "- [Azure Resource Manager (ARM) Tools](https://marketplace.visualstudio.com/items?itemName=msazurermtools.azurerm-vscode-tools): Language server, editing tools and snippets for Azure Resource Manager (ARM) template files. | Publisher: Microsoft | Id: `msazurermtools.azurerm-vscode-tools`\n",
      "- [Azure Resources](https://marketplace.visualstudio.com/items?itemName=ms-azuretools.vscode-azureresourcegroups): An extension for viewing and managing Azure resources. | Publisher: Microsoft | Id: `ms-azuretools.vscode-azureresourcegroups`\n",
      "- [Azure Storage](https://marketplace.visualstudio.com/items?itemName=ms-azuretools.vscode-azurestorage): Manage your Azure Storage accounts including Blob Containers, File Shares, Tables and Queues | Publisher: Microsoft | Id: `ms-azuretools.vscode-azurestorage`\n",
      "- [Azure Tools](https://marketplace.visualstudio.com/items?itemName=ms-vscode.vscode-node-azure-pack): Get web site hosting, SQL and MongoDB data, Docker Containers, Serverless Functions and more, all on Azure, all from VS Code, in this one extension from Microsoft. | Publisher: Microsoft | Id: `ms-vscode.vscode-node-azure-pack`\n",
      "- [Azure Virtual Machines](https://marketplace.visualstudio.com/items?itemName=ms-azuretools.vscode-azurevirtualmachines): An Azure Virtual Machines extension for Visual Studio Code. | Publisher: Microsoft | Id: `ms-azuretools.vscode-azurevirtualmachines`\n",
      "- [Bicep](https://marketplace.visualstudio.com/items?itemName=ms-azuretools.vscode-bicep): Bicep language support for Visual Studio Code | Publisher: Microsoft | Id: `ms-azuretools.vscode-bicep`\n",
      "- [Docker](https://marketplace.visualstudio.com/items?itemName=ms-azuretools.vscode-docker): Makes it easy to create, manage, and debug containerized applications. | Publisher: Microsoft | Id: `ms-azuretools.vscode-docker`\n",
      "- [Draw.io Integration](https://marketplace.visualstudio.com/items?itemName=hediet.vscode-drawio): This unofficial extension integrates Draw.io into VS Code. | Publisher: Henning Dieterichs | Id: `hediet.vscode-drawio`\n",
      "- [Excel Viewer](https://marketplace.visualstudio.com/items?itemName=GrapeCity.gc-excelviewer): View Excel spreadsheets and CSV files in Visual Studio Code and VS Code for the Web. | Publisher: GrapeCity | Id: `GrapeCity.gc-excelviewer`\n",
      "- [GitHub Pull Requests and Issues](https://marketplace.visualstudio.com/items?itemName=GitHub.vscode-pull-request-github): Pull Request and Issue Provider for GitHub | Publisher: GitHub | Id: `GitHub.vscode-pull-request-github`\n",
      "- [GitLens — Git supercharged](https://marketplace.visualstudio.com/items?itemName=eamodio.gitlens): Supercharge the Git capabilities built into Visual Studio Code — Visualize code authorship at a glance via Git blame annotations and code lens, seamlessly navigate and explore Git repositories, gain valuable insights via powerful comparison commands, and so much more | Publisher: GitKraken | Id: `eamodio.gitlens`\n",
      "- [Jupyter Keymap](https://marketplace.visualstudio.com/items?itemName=ms-toolsai.jupyter-keymap): Jupyter keymaps for notebooks | Publisher: Microsoft | Id: `ms-toolsai.jupyter-keymap`\n",
      "- [Jupyter Notebook Renderers](https://marketplace.visualstudio.com/items?itemName=ms-toolsai.jupyter-renderers): Renderers for Jupyter Notebooks (with plotly, vega, gif, png, svg, jpeg and other such outputs) | Publisher: Microsoft | Id: `ms-toolsai.jupyter-renderers`\n",
      "- [Jupyter](https://marketplace.visualstudio.com/items?itemName=ms-toolsai.jupyter): Jupyter notebook support, interactive programming and computing that supports Intellisense, debugging and more. | Publisher: Microsoft | Id: `ms-toolsai.jupyter`\n",
      "- [Markdown All in One](https://marketplace.visualstudio.com/items?itemName=yzhang.markdown-all-in-one): All you need to write Markdown (keyboard shortcuts, table of contents, auto preview and more) | Publisher: Yu Zhang | Id: `yzhang.markdown-all-in-one`\n",
      "- [Pylance](https://marketplace.visualstudio.com/items?itemName=ms-python.vscode-pylance): A performant, feature-rich language server for Python in VS Code | Publisher: Microsoft | Id: `ms-python.vscode-pylance`\n",
      "- [Python Environment Manager](https://marketplace.visualstudio.com/items?itemName=donjayamanne.python-environment-manager): View and manage Python environments & pacakges. | Publisher: Don Jayamanne | Id: `donjayamanne.python-environment-manager`\n",
      "- [Python Indent](https://marketplace.visualstudio.com/items?itemName=KevinRose.vsc-python-indent): Correct python indentation. | Publisher: Kevin Rose | Id: `KevinRose.vsc-python-indent`\n",
      "- [Python Path](https://marketplace.visualstudio.com/items?itemName=mgesbert.python-path): Python imports utils. | Publisher: Mathias Gesbert | Id: `mgesbert.python-path`\n",
      "- [Python](https://marketplace.visualstudio.com/items?itemName=ms-python.python): IntelliSense (Pylance), Linting, Debugging (multi-threaded, remote), Jupyter Notebooks, code formatting, refactoring, unit tests, and more. | Publisher: Microsoft | Id: `ms-python.python`\n",
      "- [Remote - Containers](https://marketplace.visualstudio.com/items?itemName=ms-vscode-remote.remote-containers): Open any folder or repository inside a Docker container and take advantage of Visual Studio Code's full feature set. | Publisher: Microsoft | Id: `ms-vscode-remote.remote-containers`\n",
      "- [Remote - SSH: Editing Configuration Files](https://marketplace.visualstudio.com/items?itemName=ms-vscode-remote.remote-ssh-edit): Edit SSH configuration files | Publisher: Microsoft | Id: `ms-vscode-remote.remote-ssh-edit`\n",
      "- [Remote - SSH](https://marketplace.visualstudio.com/items?itemName=ms-vscode-remote.remote-ssh): Open any folder on a remote machine using SSH and take advantage of VS Code's full feature set. | Publisher: Microsoft | Id: `ms-vscode-remote.remote-ssh`\n",
      "- [Remote - WSL](https://marketplace.visualstudio.com/items?itemName=ms-vscode-remote.remote-wsl): Open any folder in the Windows Subsystem for Linux (WSL) and take advantage of Visual Studio Code's full feature set. | Publisher: Microsoft | Id: `ms-vscode-remote.remote-wsl`\n",
      "- [Resource Monitor](https://marketplace.visualstudio.com/items?itemName=mutantdino.resourcemonitor): Displays current CPU stats, memory/disk consumption, and battery percentage remaining. | Publisher: mutantdino | Id: `mutantdino.resourcemonitor`\n",
      "- [Visual Studio IntelliCode](https://marketplace.visualstudio.com/items?itemName=VisualStudioExptTeam.vscodeintellicode): AI-assisted development | Publisher: Microsoft | Id: `VisualStudioExptTeam.vscodeintellicode`\n",
      "- [markdownlint](https://marketplace.visualstudio.com/items?itemName=DavidAnson.vscode-markdownlint): Markdown linting and style checking for Visual Studio Code | Publisher: David Anson | Id: `DavidAnson.vscode-markdownlint`\n",
      "- [vscode-pdf](https://marketplace.visualstudio.com/items?itemName=tomoki1207.pdf): Display pdf file in VSCode. | Publisher: tomoki1207 | Id: `tomoki1207.pdf`\n"
     ]
    },
    {
     "name": "stderr",
     "output_type": "stream",
     "text": [
      "\n"
     ]
    }
   ],
   "source": [
    "import requests\n",
    "import json\n",
    "from bs4 import BeautifulSoup\n",
    "from tqdm import tqdm\n",
    "filename = \"/home/mrgibbon/engineering-handbook/scripts/onboarding/layered-install/setup-nodes/devbase/vscode/datateam/package.json\"\n",
    "\n",
    "with open(filename, 'r') as jsonFile:\n",
    "    extensionPack = json.load(jsonFile)\n",
    "markdownBlocks = []\n",
    "for id in tqdm(extensionPack['extensionPack']):\n",
    "    url = 'https://marketplace.visualstudio.com/items?itemName={}'.format(id)\n",
    "    r = requests.get(url=url)\n",
    "    soup = BeautifulSoup(r.text)\n",
    "    name = soup.find(\"span\", {\"class\": \"ux-item-name\"}).text\n",
    "    description = soup.find(\"div\", {\"class\": \"ux-item-shortdesc\"}).text\n",
    "    publisher = soup.find(\"a\", {\"class\": \"ux-item-publisher-link item-banner-focussable-child-item\"}).text\n",
    "    jsonDict = {\n",
    "        \"Name\": name,\n",
    "        \"Description\": description,\n",
    "        \"Publisher\": publisher,\n",
    "        \"Id\": id,\n",
    "        \"VS Marketplace Link\": url\n",
    "    }\n",
    "    markdownBlocks.append(\"- [{Name}]({Link}): {Description} | Publisher: {Publisher} | Id: `{Id}`\".format(Name = jsonDict['Name'], Link = jsonDict['VS Marketplace Link'], Description = jsonDict['Description'], Publisher = jsonDict['Publisher'], Id = jsonDict['Id']))\n",
    "markdownBlocks.sort()\n",
    "for i in markdownBlocks:\n",
    "    print(i)"
   ]
  },
  {
   "cell_type": "code",
   "execution_count": 15,
   "metadata": {},
   "outputs": [
    {
     "name": "stdout",
     "output_type": "stream",
     "text": [
      "\"adpyke.vscode-sql-formatter\",\n",
      "\"bastienboutonnet.vscode-dbt\",\n",
      "\"bencoleman.armview\",\n",
      "\"DavidAnson.vscode-markdownlint\",\n",
      "\"donjayamanne.python-environment-manager\",\n",
      "\"eamodio.gitlens\",\n",
      "\"foxundermoon.shell-format\",\n",
      "\"GitHub.vscode-pull-request-github\",\n",
      "\"GrapeCity.gc-excelviewer\",\n",
      "\"hediet.vscode-drawio\",\n",
      "\"innoverio.vscode-dbt-power-user\",\n",
      "\"iocave.customize-ui\",\n",
      "\"iocave.monkey-patch\",\n",
      "\"ionutvmi.reg\",\n",
      "\"IronGeek.vscode-env\",\n",
      "\"janisdd.vscode-edit-csv\",\n",
      "\"KevinRose.vsc-python-indent\",\n",
      "\"kogai.regex-railroad-diagrams\",\n",
      "\"mgesbert.python-path\",\n",
      "\"ms-azure-devops.azure-pipelines\",\n",
      "\"ms-azuretools.vscode-azureappservice\",\n",
      "\"ms-azuretools.vscode-azurefunctions\",\n",
      "\"ms-azuretools.vscode-azureresourcegroups\",\n",
      "\"ms-azuretools.vscode-azurestorage\",\n",
      "\"ms-azuretools.vscode-azurevirtualmachines\",\n",
      "\"ms-azuretools.vscode-bicep\",\n",
      "\"ms-azuretools.vscode-cosmosdb\",\n",
      "\"ms-azuretools.vscode-docker\",\n",
      "\"ms-dotnettools.vscode-dotnet-runtime\",\n",
      "\"ms-python.python\",\n",
      "\"ms-python.vscode-pylance\",\n",
      "\"ms-toolsai.jupyter\",\n",
      "\"ms-toolsai.jupyter-keymap\",\n",
      "\"ms-toolsai.jupyter-renderers\",\n",
      "\"ms-toolsai.vscode-ai\",\n",
      "\"ms-toolsai.vscode-ai-remote\",\n",
      "\"ms-vscode-remote.remote-containers\",\n",
      "\"ms-vscode-remote.remote-ssh\",\n",
      "\"ms-vscode-remote.remote-ssh-edit\",\n",
      "\"ms-vscode-remote.remote-wsl\",\n",
      "\"ms-vscode.azure-account\",\n",
      "\"ms-vscode.azurecli\",\n",
      "\"ms-vscode.powershell\",\n",
      "\"ms-vscode.vscode-node-azure-pack\",\n",
      "\"ms-vsliveshare.vsliveshare\",\n",
      "\"ms-vsliveshare.vsliveshare-audio\",\n",
      "\"msazurermtools.azurerm-vscode-tools\",\n",
      "\"mshdinsight.azure-hdinsight\",\n",
      "\"mtxr.sqltools\",\n",
      "\"mtxr.sqltools-driver-mysql\",\n",
      "\"mtxr.sqltools-driver-pg\",\n",
      "\"mutantdino.resourcemonitor\",\n",
      "\"njpwerner.autodocstring\",\n",
      "\"samuelcolvin.jinjahtml\",\n",
      "\"sourcegraph.sourcegraph\",\n",
      "\"sourcery.sourcery\",\n",
      "\"tht13.html-preview-vscode\",\n",
      "\"tomoki1207.pdf\",\n",
      "\"ultram4rine.sqltools-clickhouse-driver\",\n",
      "\"undefined_publisher.pa-datateam-vs-extensions\",\n",
      "\"usernamehw.errorlens\",\n",
      "\"VisualStudioExptTeam.intellicode-api-usage-examples\",\n",
      "\"VisualStudioExptTeam.vscodeintellicode\",\n",
      "\"yzhang.markdown-all-in-one\",\n"
     ]
    }
   ],
   "source": [
    "extensionFile = 'datateam/extensions'\n",
    "with open(extensionFile, 'r') as file:\n",
    "    lines = [line.rstrip() for line in file]\n",
    "for i in lines:\n",
    "    print('\"{i}\",'.format(i=i))"
   ]
  },
  {
   "cell_type": "code",
   "execution_count": null,
   "metadata": {},
   "outputs": [],
   "source": []
  }
 ],
 "metadata": {
  "interpreter": {
   "hash": "46a95fef29fe1d774d853666263935706cd6e3b06efdc41f6b18e82e4c48a09e"
  },
  "kernelspec": {
   "display_name": "Python 3.10.1 ('autodrive')",
   "language": "python",
   "name": "python3"
  },
  "language_info": {
   "codemirror_mode": {
    "name": "ipython",
    "version": 3
   },
   "file_extension": ".py",
   "mimetype": "text/x-python",
   "name": "python",
   "nbconvert_exporter": "python",
   "pygments_lexer": "ipython3",
   "version": "3.10.1"
  },
  "orig_nbformat": 4
 },
 "nbformat": 4,
 "nbformat_minor": 2
}
